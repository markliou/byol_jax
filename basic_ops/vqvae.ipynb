{
 "cells": [
  {
   "cell_type": "code",
   "execution_count": 1,
   "metadata": {},
   "outputs": [
    {
     "name": "stderr",
     "output_type": "stream",
     "text": [
      "2025-03-16 17:15:15.592978: I tensorflow/core/util/port.cc:153] oneDNN custom operations are on. You may see slightly different numerical results due to floating-point round-off errors from different computation orders. To turn them off, set the environment variable `TF_ENABLE_ONEDNN_OPTS=0`.\n",
      "2025-03-16 17:15:15.782238: E external/local_xla/xla/stream_executor/cuda/cuda_fft.cc:467] Unable to register cuFFT factory: Attempting to register factory for plugin cuFFT when one has already been registered\n",
      "WARNING: All log messages before absl::InitializeLog() is called are written to STDERR\n",
      "E0000 00:00:1742145315.858341   36331 cuda_dnn.cc:8579] Unable to register cuDNN factory: Attempting to register factory for plugin cuDNN when one has already been registered\n",
      "E0000 00:00:1742145315.880088   36331 cuda_blas.cc:1407] Unable to register cuBLAS factory: Attempting to register factory for plugin cuBLAS when one has already been registered\n",
      "W0000 00:00:1742145316.036130   36331 computation_placer.cc:177] computation placer already registered. Please check linkage and avoid linking the same target more than once.\n",
      "W0000 00:00:1742145316.036190   36331 computation_placer.cc:177] computation placer already registered. Please check linkage and avoid linking the same target more than once.\n",
      "W0000 00:00:1742145316.036191   36331 computation_placer.cc:177] computation placer already registered. Please check linkage and avoid linking the same target more than once.\n",
      "W0000 00:00:1742145316.036192   36331 computation_placer.cc:177] computation placer already registered. Please check linkage and avoid linking the same target more than once.\n",
      "2025-03-16 17:15:16.058965: I tensorflow/core/platform/cpu_feature_guard.cc:210] This TensorFlow binary is optimized to use available CPU instructions in performance-critical operations.\n",
      "To enable the following instructions: AVX2 AVX_VNNI FMA, in other operations, rebuild TensorFlow with the appropriate compiler flags.\n"
     ]
    }
   ],
   "source": [
    "import tensorflow as tfds\n",
    "import numpy as np\n",
    "import jax \n",
    "import flax.nnx\n",
    "import jax.numpy as jnp"
   ]
  },
  {
   "cell_type": "code",
   "execution_count": 7,
   "metadata": {},
   "outputs": [],
   "source": [
    "class vqvae(flax.nnx.Module):\n",
    "    def __init__(self, \n",
    "                 codebookSize = 32,\n",
    "                 *args, **kwargs):\n",
    "        super(flax.nnx.Module, self).__init__(*args, **kwargs)\n",
    "        \n",
    "        self.rngs = flax.nnx.Rngs(0)\n",
    "        self.codebookSize = codebookSize\n",
    "        \n",
    "        # input size: [32, 32, 3]\n",
    "        # encoder\n",
    "        self.conv1 = flax.nnx.Conv(3, 8, (3,3), strides=2, rngs=self.rngs) # [-1, 16, 16, 8]\n",
    "        self.conv2 = flax.nnx.Conv(8, 16, (3,3), strides=2, rngs=self.rngs) # [-1, 8, 8, 16]\n",
    "        self.conv3 = flax.nnx.Conv(16, 64, (3,3), strides=2, rngs=self.rngs) # [-1, 4, 4, 64]\n",
    "        \n",
    "        # devoer\n",
    "        self.tconv1 = flax.nnx.ConvTranspose(64, 16, (3,3), strides=2, rngs=self.rngs) # [-1, 8, 8, 16]\n",
    "        self.tconv2 = flax.nnx.ConvTranspose(16, 8, (3,3), strides=2, rngs=self.rngs) # [-1, 16, 16, 8]\n",
    "        self.tconv3 = flax.nnx.ConvTranspose(8, 3, (3,3), strides=2, rngs=self.rngs) # [-1, 32, 32, 3]\n",
    "        \n",
    "        # setting code book\n",
    "        self.codeBook = flax.nnx.Param(\n",
    "            jax.nn.initializers.orthogonal()(jax.random.key(0), (1, self.codebookSize, 64))\n",
    "            )\n",
    "        \n",
    "    \n",
    "    def __call__(self, input):\n",
    "        \n",
    "        # encoding\n",
    "        d1 = self.conv1(input)\n",
    "        d2 = self.conv2(d1)\n",
    "        d3 = self.conv3(d2)\n",
    "        \n",
    "        # reshaping for code exchange\n",
    "        candidateLatents = jax.reshape(d3, [-1, 1, 64])\n",
    "        # calculating distances\n",
    "        euDis = jnp.sum((candidateLatents - self.codeBook) ** 2, axis = -1) # [-1, 16]\n",
    "        activeIndex = jnp.argmax(euDis, axis=-1) # [-1]\n",
    "        activeIndexOnehot = jax.nnx.one_hot(activeIndex, self.codebookSize) # [-1, 16]\n",
    "        replacedLatents = jnp.sum(\n",
    "            jax.reshape(activeIndexOnehot, [-1, self.codebookSize, 1]) * self.codeBook,\n",
    "            axis = -2\n",
    "        ) # [-1, 64]\n",
    "        # reshaping for decoding\n",
    "        replacedLatents = jax.reshape(replacedLatents, d3.shape)\n",
    "        \n",
    "        d4 = self.tconv1(replacedLatents)\n",
    "        d5 = self.tconv2(d4)\n",
    "        out = self.tconv3(d5)\n",
    "        \n",
    "        return out\n",
    "        \n",
    "model = vqvae()"
   ]
  }
 ],
 "metadata": {
  "kernelspec": {
   "display_name": "Python 3",
   "language": "python",
   "name": "python3"
  },
  "language_info": {
   "codemirror_mode": {
    "name": "ipython",
    "version": 3
   },
   "file_extension": ".py",
   "mimetype": "text/x-python",
   "name": "python",
   "nbconvert_exporter": "python",
   "pygments_lexer": "ipython3",
   "version": "3.11.11"
  }
 },
 "nbformat": 4,
 "nbformat_minor": 2
}
