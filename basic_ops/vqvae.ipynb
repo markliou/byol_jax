{
 "cells": [
  {
   "cell_type": "code",
   "execution_count": 1,
   "metadata": {},
   "outputs": [
    {
     "name": "stderr",
     "output_type": "stream",
     "text": [
      "2025-03-20 08:57:32.803977: E external/local_xla/xla/stream_executor/cuda/cuda_fft.cc:467] Unable to register cuFFT factory: Attempting to register factory for plugin cuFFT when one has already been registered\n",
      "WARNING: All log messages before absl::InitializeLog() is called are written to STDERR\n",
      "E0000 00:00:1742461052.821268   46664 cuda_dnn.cc:8579] Unable to register cuDNN factory: Attempting to register factory for plugin cuDNN when one has already been registered\n",
      "E0000 00:00:1742461052.825662   46664 cuda_blas.cc:1407] Unable to register cuBLAS factory: Attempting to register factory for plugin cuBLAS when one has already been registered\n",
      "W0000 00:00:1742461052.836199   46664 computation_placer.cc:177] computation placer already registered. Please check linkage and avoid linking the same target more than once.\n",
      "W0000 00:00:1742461052.836222   46664 computation_placer.cc:177] computation placer already registered. Please check linkage and avoid linking the same target more than once.\n",
      "W0000 00:00:1742461052.836223   46664 computation_placer.cc:177] computation placer already registered. Please check linkage and avoid linking the same target more than once.\n",
      "W0000 00:00:1742461052.836224   46664 computation_placer.cc:177] computation placer already registered. Please check linkage and avoid linking the same target more than once.\n"
     ]
    }
   ],
   "source": [
    "import tensorflow_datasets as tfds\n",
    "import numpy as np\n",
    "import jax \n",
    "import flax.nnx\n",
    "import jax.numpy as jnp\n",
    "import tensorflow as tf\n",
    "import optax \n",
    "from PIL import Image"
   ]
  },
  {
   "cell_type": "code",
   "execution_count": 2,
   "metadata": {},
   "outputs": [
    {
     "name": "stderr",
     "output_type": "stream",
     "text": [
      "2025-03-20 08:57:35.519967: W tensorflow/core/common_runtime/gpu/gpu_bfc_allocator.cc:47] Overriding orig_value setting because the TF_FORCE_GPU_ALLOW_GROWTH environment variable is set. Original config value was 0.\n",
      "I0000 00:00:1742461055.520021   46664 gpu_device.cc:2019] Created device /job:localhost/replica:0/task:0/device:GPU:0 with 5566 MB memory:  -> device: 0, name: NVIDIA GeForce RTX 4060 Laptop GPU, pci bus id: 0000:01:00.0, compute capability: 8.9\n"
     ]
    }
   ],
   "source": [
    "# create the dataset\n",
    "batchSize = 256\n",
    "dsimg = tfds.load(\"beans\", split='train', shuffle_files=True, batch_size=-1)['image'].numpy()\n",
    "reImg = tf.image.resize(dsimg, [256,256])\n",
    "dataset = tf.data.Dataset.from_tensor_slices(reImg)\n",
    "# dataset = dataset.batch(batchSize, drop_remainder=True).repeat().shuffle(3, reshuffle_each_iteration=True).prefetch(tf.data.AUTOTUNE)\n",
    "dataset = dataset.repeat().shuffle(3, reshuffle_each_iteration=True).batch(batchSize, drop_remainder=True).map(lambda x: tf.image.random_crop(value=x, size=(batchSize, 128, 128, 3)), num_parallel_calls=8).prefetch(8)\n",
    "ds_iter = iter(dataset)"
   ]
  },
  {
   "cell_type": "code",
   "execution_count": 3,
   "metadata": {},
   "outputs": [
    {
     "data": {
      "text/plain": [
       "Intermediate( # 1 (4 B)\n",
       "  value=Array(2.1737862, dtype=float32)\n",
       ")"
      ]
     },
     "execution_count": 3,
     "metadata": {},
     "output_type": "execute_result"
    }
   ],
   "source": [
    "class vqvae(flax.nnx.Module):\n",
    "    def __init__(self, \n",
    "                 codebookSize = 32,\n",
    "                 l2reg = 1e-4,\n",
    "                 *args, **kwargs):\n",
    "        super(flax.nnx.Module, self).__init__(*args, **kwargs)\n",
    "        \n",
    "        self.rngs = flax.nnx.Rngs(0)\n",
    "        self.codebookSize = codebookSize\n",
    "        self.activation = flax.nnx.swish\n",
    "        self.l2reg = l2reg\n",
    "        self.layers = []\n",
    "        \n",
    "        \n",
    "        # input size: [-1, 128, 128, 3]\n",
    "        # encoder\n",
    "        self.conv1 = flax.nnx.Conv(3, 32, (3,3), strides=2, rngs=self.rngs) # [-1, 64, 64, 32]\n",
    "        self.layers.append(self.conv1)\n",
    "        self.conv2 = flax.nnx.Conv(32, 64, (3,3), strides=2, rngs=self.rngs) # [-1, 32, 32, 64]\n",
    "        self.layers.append(self.conv2)\n",
    "        self.conv3 = flax.nnx.Conv(64, 128, (3,3), strides=2, rngs=self.rngs) # [-1, 16, 16, 128]\n",
    "        self.layers.append(self.conv3)\n",
    "        \n",
    "        # devoer\n",
    "        self.tconv1 = flax.nnx.ConvTranspose(128, 64, (3,3), strides=2, rngs=self.rngs) # [-1, 32, 32, 64]\n",
    "        self.layers.append(self.tconv1)\n",
    "        self.tconv2 = flax.nnx.ConvTranspose(64, 32, (3,3), strides=2, rngs=self.rngs) # [-1, 64, 64, 32]\n",
    "        self.layers.append(self.tconv2)\n",
    "        self.tconv3 = flax.nnx.ConvTranspose(32, 3, (3,3), strides=2, rngs=self.rngs) # [-1, 128, 128, 3]\n",
    "        self.layers.append(self.tconv3)\n",
    "        \n",
    "        # setting code book\n",
    "        self.codeBook = flax.nnx.Param(\n",
    "            jax.nn.initializers.orthogonal()(jax.random.key(0), (1, self.codebookSize, 128))\n",
    "            # jax.nn.initializers.truncated_normal(0.01)(jax.random.key(0), (1, self.codebookSize, 64))\n",
    "            )\n",
    "        \n",
    "    @flax.nnx.jit\n",
    "    def __call__(self, input):\n",
    "        \n",
    "        # encoding\n",
    "        d1 = self.activation(self.conv1(input))\n",
    "        d2 = self.activation(self.conv2(d1))\n",
    "        d3 = self.conv3(d2)\n",
    "        \n",
    "        # reshaping for code exchange\n",
    "        candidateLatents = jnp.reshape(d3, [-1, 1, 128])\n",
    "        # calculating distances\n",
    "        euDis = jnp.sum((candidateLatents - self.codeBook) ** 2, axis = -1) # [-1, 16]\n",
    "        activeIndex = jnp.argmin(euDis, axis=-1) # [-1]\n",
    "        # replacing codes\n",
    "        activeIndexOnehot = jax.nn.one_hot(activeIndex, self.codebookSize) # [-1, 16]\n",
    "        replacedLatents = jnp.sum(\n",
    "            jnp.reshape(activeIndexOnehot, [-1, self.codebookSize, 1]) * self.codeBook,\n",
    "            axis = -2\n",
    "        ) # [-1, 64]\n",
    "        \n",
    "        # commit and vq loss\n",
    "        candidateLatens4Loss = jnp.reshape(candidateLatents, [-1, 128])\n",
    "        commitLoss = jnp.mean(jnp.sum((jax.lax.stop_gradient(candidateLatens4Loss) - replacedLatents) ** 2, axis=-1))  # commit loss\n",
    "        vqLoss = jnp.mean(jnp.sum((candidateLatens4Loss - jax.lax.stop_gradient(replacedLatents)) ** 2, axis=-1)) *.25 # vq loss\n",
    "        self.sow(flax.nnx.Intermediate, \"commitLoss\", commitLoss, reduce_fn=lambda x, y: y)\n",
    "        self.sow(flax.nnx.Intermediate, \"vqLoss\", vqLoss, reduce_fn=lambda x, y: y)\n",
    "    \n",
    "    \n",
    "        # reshaping replaced latents\n",
    "        replacedLatents = jnp.reshape(replacedLatents, d3.shape)\n",
    "        # straight throught estimated \n",
    "        replacedLatents = jax.lax.stop_gradient(replacedLatents - d3) + d3\n",
    "        \n",
    "        d4 = self.activation(self.tconv1(replacedLatents))\n",
    "        d5 = self.activation(self.tconv2(d4))\n",
    "        out = self.tconv3(d5)\n",
    "        \n",
    "        return out\n",
    "    \n",
    "    def l2Reg(self):\n",
    "        regLoss = 0.\n",
    "        for layer in self.layers:\n",
    "            regLoss += jnp.sum(jax.tree_util.tree_leaves(layer.kernel)[0] ** 2)\n",
    "            regLoss += jnp.sum(jax.tree_util.tree_leaves(layer.bias)[0] ** 2)\n",
    "        return regLoss * self.l2reg\n",
    "    \n",
    "    def commit_and_vq_loss(self):\n",
    "        pass\n",
    "    \n",
    "        \n",
    "model = vqvae()\n",
    "model(jnp.ones([5, 32, 32, 3]))\n",
    "model.vqLoss"
   ]
  },
  {
   "cell_type": "code",
   "execution_count": 4,
   "metadata": {},
   "outputs": [],
   "source": [
    "@flax.nnx.jit\n",
    "def loss_fn(model, x):\n",
    "    y = (jnp.array(x) / 255. ) - 1.\n",
    "    y_hat = model(y)\n",
    "    se = jnp.mean((y_hat - y) ** 2) \n",
    "    return (se + model.commitLoss + model.vqLoss + model.l2Reg()) "
   ]
  },
  {
   "cell_type": "code",
   "execution_count": 5,
   "metadata": {},
   "outputs": [],
   "source": [
    "learningRate = 1e-4\n",
    "\n",
    "optChain = optax.chain(\n",
    "   optax.clip_by_global_norm(1.0),\n",
    "   optax.adamw(learningRate),\n",
    ")\n",
    "opt = flax.nnx.Optimizer(model, optChain)\n",
    "grad_fn = flax.nnx.value_and_grad(loss_fn)\n",
    "\n",
    "# @flax.nnx.jit # cause abnormal \n",
    "def update_model_weights(model, y):\n",
    "   loss, grads = grad_fn(model, y)\n",
    "   opt.update(grads)\n",
    "   return loss"
   ]
  },
  {
   "cell_type": "code",
   "execution_count": null,
   "metadata": {},
   "outputs": [
    {
     "name": "stderr",
     "output_type": "stream",
     "text": [
      "2025-03-20 08:57:56.030124: E external/xla/xla/service/slow_operation_alarm.cc:73] Trying algorithm eng0{} for conv %cudnn-conv-bias-activation.19 = (f32[3,32,3,3]{3,2,1,0}, u8[0]{0}) custom-call(f32[3,256,129,129]{3,2,1,0} %bitcast.1545, f32[32,256,127,127]{3,2,1,0} %bitcast.1555, f32[32]{0} %bitcast.1558, f32[3,32,3,3]{3,2,1,0} %bitcast.1569), window={size=127x127 rhs_reversal=1x1}, dim_labels=bf01_oi01->bf01, custom_call_target=\"__cudnn$convBiasActivationForward\", metadata={op_name=\"jit(loss_fn)/jit(main)/jit(__call__)/conv_general_dilated\" source_file=\"/usr/local/lib/python3.11/dist-packages/flax/nnx/nn/linear.py\" source_line=989}, backend_config={\"operation_queue_id\":\"0\",\"wait_on_operation_queues\":[],\"cudnn_conv_backend_config\":{\"conv_result_scale\":1,\"activation_mode\":\"kNone\",\"side_input_scale\":1,\"leakyrelu_alpha\":0},\"force_earliest_schedule\":false} is taking a while...\n",
      "2025-03-20 08:57:56.164775: E external/xla/xla/service/slow_operation_alarm.cc:140] The operation took 1.134866195s\n",
      "Trying algorithm eng0{} for conv %cudnn-conv-bias-activation.19 = (f32[3,32,3,3]{3,2,1,0}, u8[0]{0}) custom-call(f32[3,256,129,129]{3,2,1,0} %bitcast.1545, f32[32,256,127,127]{3,2,1,0} %bitcast.1555, f32[32]{0} %bitcast.1558, f32[3,32,3,3]{3,2,1,0} %bitcast.1569), window={size=127x127 rhs_reversal=1x1}, dim_labels=bf01_oi01->bf01, custom_call_target=\"__cudnn$convBiasActivationForward\", metadata={op_name=\"jit(loss_fn)/jit(main)/jit(__call__)/conv_general_dilated\" source_file=\"/usr/local/lib/python3.11/dist-packages/flax/nnx/nn/linear.py\" source_line=989}, backend_config={\"operation_queue_id\":\"0\",\"wait_on_operation_queues\":[],\"cudnn_conv_backend_config\":{\"conv_result_scale\":1,\"activation_mode\":\"kNone\",\"side_input_scale\":1,\"leakyrelu_alpha\":0},\"force_earliest_schedule\":false} is taking a while...\n",
      "2025-03-20 08:57:57.165711: E external/xla/xla/service/slow_operation_alarm.cc:73] Trying algorithm eng11{k2=0,k3=0} for conv %cudnn-conv-bias-activation.19 = (f32[3,32,3,3]{3,2,1,0}, u8[0]{0}) custom-call(f32[3,256,129,129]{3,2,1,0} %bitcast.1545, f32[32,256,127,127]{3,2,1,0} %bitcast.1555, f32[32]{0} %bitcast.1558, f32[3,32,3,3]{3,2,1,0} %bitcast.1569), window={size=127x127 rhs_reversal=1x1}, dim_labels=bf01_oi01->bf01, custom_call_target=\"__cudnn$convBiasActivationForward\", metadata={op_name=\"jit(loss_fn)/jit(main)/jit(__call__)/conv_general_dilated\" source_file=\"/usr/local/lib/python3.11/dist-packages/flax/nnx/nn/linear.py\" source_line=989}, backend_config={\"operation_queue_id\":\"0\",\"wait_on_operation_queues\":[],\"cudnn_conv_backend_config\":{\"conv_result_scale\":1,\"activation_mode\":\"kNone\",\"side_input_scale\":1,\"leakyrelu_alpha\":0},\"force_earliest_schedule\":false} is taking a while...\n",
      "2025-03-20 08:57:57.414021: E external/xla/xla/service/slow_operation_alarm.cc:140] The operation took 1.248490331s\n",
      "Trying algorithm eng11{k2=0,k3=0} for conv %cudnn-conv-bias-activation.19 = (f32[3,32,3,3]{3,2,1,0}, u8[0]{0}) custom-call(f32[3,256,129,129]{3,2,1,0} %bitcast.1545, f32[32,256,127,127]{3,2,1,0} %bitcast.1555, f32[32]{0} %bitcast.1558, f32[3,32,3,3]{3,2,1,0} %bitcast.1569), window={size=127x127 rhs_reversal=1x1}, dim_labels=bf01_oi01->bf01, custom_call_target=\"__cudnn$convBiasActivationForward\", metadata={op_name=\"jit(loss_fn)/jit(main)/jit(__call__)/conv_general_dilated\" source_file=\"/usr/local/lib/python3.11/dist-packages/flax/nnx/nn/linear.py\" source_line=989}, backend_config={\"operation_queue_id\":\"0\",\"wait_on_operation_queues\":[],\"cudnn_conv_backend_config\":{\"conv_result_scale\":1,\"activation_mode\":\"kNone\",\"side_input_scale\":1,\"leakyrelu_alpha\":0},\"force_earliest_schedule\":false} is taking a while...\n",
      "2025-03-20 08:57:58.414928: E external/xla/xla/service/slow_operation_alarm.cc:73] Trying algorithm eng11{k2=1,k3=0} for conv %cudnn-conv-bias-activation.19 = (f32[3,32,3,3]{3,2,1,0}, u8[0]{0}) custom-call(f32[3,256,129,129]{3,2,1,0} %bitcast.1545, f32[32,256,127,127]{3,2,1,0} %bitcast.1555, f32[32]{0} %bitcast.1558, f32[3,32,3,3]{3,2,1,0} %bitcast.1569), window={size=127x127 rhs_reversal=1x1}, dim_labels=bf01_oi01->bf01, custom_call_target=\"__cudnn$convBiasActivationForward\", metadata={op_name=\"jit(loss_fn)/jit(main)/jit(__call__)/conv_general_dilated\" source_file=\"/usr/local/lib/python3.11/dist-packages/flax/nnx/nn/linear.py\" source_line=989}, backend_config={\"operation_queue_id\":\"0\",\"wait_on_operation_queues\":[],\"cudnn_conv_backend_config\":{\"conv_result_scale\":1,\"activation_mode\":\"kNone\",\"side_input_scale\":1,\"leakyrelu_alpha\":0},\"force_earliest_schedule\":false} is taking a while...\n",
      "2025-03-20 08:57:58.811862: E external/xla/xla/service/slow_operation_alarm.cc:140] The operation took 1.397118053s\n",
      "Trying algorithm eng11{k2=1,k3=0} for conv %cudnn-conv-bias-activation.19 = (f32[3,32,3,3]{3,2,1,0}, u8[0]{0}) custom-call(f32[3,256,129,129]{3,2,1,0} %bitcast.1545, f32[32,256,127,127]{3,2,1,0} %bitcast.1555, f32[32]{0} %bitcast.1558, f32[3,32,3,3]{3,2,1,0} %bitcast.1569), window={size=127x127 rhs_reversal=1x1}, dim_labels=bf01_oi01->bf01, custom_call_target=\"__cudnn$convBiasActivationForward\", metadata={op_name=\"jit(loss_fn)/jit(main)/jit(__call__)/conv_general_dilated\" source_file=\"/usr/local/lib/python3.11/dist-packages/flax/nnx/nn/linear.py\" source_line=989}, backend_config={\"operation_queue_id\":\"0\",\"wait_on_operation_queues\":[],\"cudnn_conv_backend_config\":{\"conv_result_scale\":1,\"activation_mode\":\"kNone\",\"side_input_scale\":1,\"leakyrelu_alpha\":0},\"force_earliest_schedule\":false} is taking a while...\n",
      "2025-03-20 08:57:59.632510: W external/xla/xla/hlo/transforms/simplifiers/hlo_rematerialization.cc:3021] Can't reduce memory use below 4.46GiB (4793366641 bytes) by rematerialization; only reduced to 5.44GiB (5843982224 bytes), down from 5.44GiB (5843982224 bytes) originally\n"
     ]
    },
    {
     "name": "stdout",
     "output_type": "stream",
     "text": [
      "step:0  loss:11.120882987976074\n",
      "step:1000  loss:0.103717140853405\n",
      "step:2000  loss:0.08009323477745056\n",
      "step:3000  loss:0.07490017265081406\n",
      "step:4000  loss:0.06934702396392822\n",
      "step:5000  loss:0.0745026096701622\n",
      "step:6000  loss:0.06998202204704285\n",
      "step:7000  loss:0.06635270267724991\n",
      "step:8000  loss:0.06953729689121246\n",
      "step:9000  loss:0.06115853413939476\n",
      "step:10000  loss:0.06263560801744461\n",
      "step:11000  loss:0.07502061128616333\n",
      "step:12000  loss:0.07574759423732758\n",
      "step:13000  loss:0.06414183229207993\n",
      "step:14000  loss:0.06996727734804153\n",
      "step:15000  loss:0.05969444662332535\n",
      "step:16000  loss:0.06850475072860718\n",
      "step:17000  loss:0.06983747333288193\n",
      "step:18000  loss:0.07571974396705627\n",
      "step:19000  loss:0.07062339037656784\n",
      "step:20000  loss:0.06784334033727646\n",
      "step:21000  loss:0.06121699512004852\n",
      "step:22000  loss:0.062363773584365845\n",
      "step:23000  loss:0.07179958373308182\n",
      "step:24000  loss:0.07080645859241486\n",
      "step:25000  loss:0.06747637689113617\n",
      "step:26000  loss:0.06375603377819061\n",
      "step:27000  loss:0.06929996609687805\n",
      "step:28000  loss:0.06475067883729935\n",
      "step:29000  loss:0.08325965702533722\n"
     ]
    }
   ],
   "source": [
    "trainingStep = 50000\n",
    "for step in range(trainingStep):\n",
    "    x = jnp.array(next(ds_iter))\n",
    "    loss = update_model_weights(model, x)\n",
    "    if step % 1000 == 0 :\n",
    "        print(\"step:{}  loss:{}\".format(step, loss))\n",
    "        \n",
    "        y = (jnp.array(x) / 255. ) - 1.\n",
    "        y_hat = model(y)\n",
    "        \n",
    "        def give_img(x, name):\n",
    "            pic = x\n",
    "            # pic = tf.reshape(pic, [128,128,3])\n",
    "            # pic = tf.reshape(pic, [3,128,128])\n",
    "            # pic = tf.transpose(pic, [1,2,0])\n",
    "            pic = (pic + 1) * 128\n",
    "            pic = Image.fromarray(tf.cast(pic, tf.uint8).numpy())\n",
    "            pic.save(name)\n",
    "            \n",
    "        give_img(y[0], 'bean.jpg')\n",
    "        give_img(y_hat[0], 'bean_hat.jpg')\n",
    "    "
   ]
  }
 ],
 "metadata": {
  "kernelspec": {
   "display_name": "Python 3",
   "language": "python",
   "name": "python3"
  },
  "language_info": {
   "codemirror_mode": {
    "name": "ipython",
    "version": 3
   },
   "file_extension": ".py",
   "mimetype": "text/x-python",
   "name": "python",
   "nbconvert_exporter": "python",
   "pygments_lexer": "ipython3",
   "version": "3.11.11"
  }
 },
 "nbformat": 4,
 "nbformat_minor": 2
}
